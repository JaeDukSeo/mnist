{
 "cells": [
  {
   "cell_type": "markdown",
   "metadata": {},
   "source": [
    "# Use of learnt parameters ($\\lambda$, learning rate & iterations) on the full dataset"
   ]
  },
  {
   "cell_type": "code",
   "execution_count": 1,
   "metadata": {
    "collapsed": true
   },
   "outputs": [],
   "source": [
    "import tensorflow as tf\n",
    "import numpy as np\n",
    "import matplotlib.pyplot as plt\n",
    "import pandas as pd\n",
    "import os\n",
    "import scipy"
   ]
  },
  {
   "cell_type": "code",
   "execution_count": 2,
   "metadata": {
    "collapsed": false
   },
   "outputs": [
    {
     "name": "stdout",
     "output_type": "stream",
     "text": [
      "Extracting MNIST_data/train-images-idx3-ubyte.gz\n",
      "Extracting MNIST_data/train-labels-idx1-ubyte.gz\n",
      "Extracting MNIST_data/t10k-images-idx3-ubyte.gz\n",
      "Extracting MNIST_data/t10k-labels-idx1-ubyte.gz\n"
     ]
    }
   ],
   "source": [
    "from tensorflow.examples.tutorials.mnist import input_data\n",
    "mnist = input_data.read_data_sets(\"MNIST_data/\", one_hot=True)"
   ]
  },
  {
   "cell_type": "code",
   "execution_count": 3,
   "metadata": {
    "collapsed": true
   },
   "outputs": [],
   "source": [
    "def add_bias(features):\n",
    "    size = features.shape[0]\n",
    "    new_array = np.c_[np.ones(size), features]\n",
    "    return new_array"
   ]
  },
  {
   "cell_type": "code",
   "execution_count": 4,
   "metadata": {
    "collapsed": true
   },
   "outputs": [],
   "source": [
    "x_train = mnist.train.images\n",
    "X_biased = add_bias(x_train)\n",
    "y_train = mnist.train.labels\n",
    "\n",
    "x_test = mnist.test.images\n",
    "X_test_biased = add_bias(x_test)\n",
    "y_test = mnist.test.labels\n"
   ]
  },
  {
   "cell_type": "code",
   "execution_count": 5,
   "metadata": {
    "collapsed": true
   },
   "outputs": [],
   "source": [
    "#config\n",
    "L1 = 2.0 #regularization parameter\n",
    "learning_rate = 0.0002\n",
    "training_epochs = 10000"
   ]
  },
  {
   "cell_type": "code",
   "execution_count": 6,
   "metadata": {
    "collapsed": true
   },
   "outputs": [],
   "source": [
    "sample_n, params_n = np.shape(X_biased) #Nx785 if images are 28x28 pixles\n",
    "layer2_n = 25 \n",
    "\n",
    "# inputs\n",
    "y_ = tf.placeholder(tf.float64, [None, 10], name='y_input')\n",
    "X_ = tf.placeholder(tf.float64, [None, params_n], name='x_input')\n",
    "\n",
    "# weights\n",
    "W1 = tf.Variable(tf.truncated_normal((params_n, layer2_n), dtype=tf.float64), name='W_1')\n",
    "W2 = tf.Variable(tf.truncated_normal((layer2_n+1, 10), dtype=tf.float64), name='W_2')\n",
    "\n",
    "# 1st layer\n",
    "z2 = tf.matmul(X_,W1)\n",
    "a2 = tf.sigmoid(z2)\n",
    "a2_ = tf.concat([tf.ones([sample_n, 1], tf.float64), a2], axis=1)\n",
    "\n",
    "#2nd layer\n",
    "z3 = tf.matmul(a2_,W2)\n",
    "h_ = tf.sigmoid(z3)\n",
    "    \n",
    "\n",
    "# cost function\n",
    "cost = [tf.reduce_mean(tf.multiply(-y_,tf.log(h_))-\n",
    "                      tf.multiply(1-y_,tf.log(1-h_)))+\n",
    "        0.5*L1/sample_n*tf.reduce_sum(tf.square(W1[1:,:]))+\n",
    "        0.5*L1/sample_n*tf.reduce_sum(tf.square(W2[1:,:]))][0]\n",
    "\n",
    "\n",
    "def d_sig(z):\n",
    "    return tf.multiply(tf.sigmoid(z), 1-tf.sigmoid(z))\n",
    "\n",
    "# BackProp\n",
    "delta3 = tf.multiply(h_-y_, d_sig(z3))\n",
    "delta2 = tf.multiply(tf.matmul(delta3, tf.transpose(W2[1:,:])), d_sig(z2))\n",
    "\n",
    "reg_W2 = tf.concat([tf.zeros([1,10], dtype=tf.float64), L1/sample_n*W2[1:,:]], 0)\n",
    "dJ_W2 = tf.matmul(tf.transpose(a2_), delta3)+reg_W2\n",
    "\n",
    "reg_W1 = tf.concat([tf.zeros([1,25], dtype=tf.float64), L1/sample_n*W1[1:,:]], 0)\n",
    "dJ_W1 = tf.matmul(tf.transpose(X_), delta2)+reg_W1\n",
    "\n",
    "\n",
    "# updating  \n",
    "update = [tf.assign(W1, tf.subtract(W1,learning_rate*dJ_W1)),\n",
    "         tf.assign(W2, tf.subtract(W2,learning_rate*dJ_W2))]\n",
    "\n",
    "#with tf.name_scope('Train'):\n",
    "#    optimizer = tf.train.GradientDescentOptimizer(learning_rate).minimize(cost)\n",
    "    \n",
    "# Accuracy\n",
    "y_pred_pf = tf.equal(tf.argmax(h_,1), tf.argmax(y_,1))\n",
    "y_pred_pf_float = tf.cast(y_pred_pf, tf.float64)\n",
    "accuracy = tf.reduce_mean(y_pred_pf_float)\n",
    "\n",
    "cost_history = []\n",
    "accuracy_history = []"
   ]
  },
  {
   "cell_type": "code",
   "execution_count": null,
   "metadata": {
    "collapsed": false
   },
   "outputs": [],
   "source": [
    "sess = tf.Session()\n",
    "\n",
    "sess.run(tf.global_variables_initializer())\n",
    "\n",
    "for epoch in range(training_epochs):\n",
    "        \n",
    "    sess.run(update, feed_dict={X_:X_biased, y_:y_train})\n",
    "    cost_value = sess.run(cost, feed_dict={X_:X_biased, y_:y_train})\n",
    "    acrcy_value = sess.run(accuracy, feed_dict={X_:X_biased, y_:y_train})\n",
    "    cost_history.append(cost_value)\n",
    "    accuracy_history.append(acrcy_value)\n",
    "\n",
    "weights1_reg = sess.run(W1)\n",
    "weights2_reg = sess.run(W2)\n",
    "sess.close()"
   ]
  },
  {
   "cell_type": "code",
   "execution_count": 18,
   "metadata": {
    "collapsed": true
   },
   "outputs": [],
   "source": [
    "# save parameters\n",
    "np.save('weight1_reg', weights1_reg)\n",
    "np.save('weight2_reg', weights2_reg)"
   ]
  },
  {
   "cell_type": "markdown",
   "metadata": {},
   "source": [
    "# Evaluating the trained model - 96.19%"
   ]
  },
  {
   "cell_type": "code",
   "execution_count": 24,
   "metadata": {
    "collapsed": false
   },
   "outputs": [
    {
     "data": {
      "image/png": "[encoded data removed]",
      "text/plain": [
       "<matplotlib.figure.Figure at 0x7f88af1ffd30>"
      ]
     },
     "metadata": {},
     "output_type": "display_data"
    },
    {
     "name": "stdout",
     "output_type": "stream",
     "text": [
      "Accuracy of the trained model on the training data is 96.18909090909091%\n"
     ]
    }
   ],
   "source": [
    "fig, ax = plt.subplots(figsize=(10,10))\n",
    "\n",
    "plt.xlabel('iterations',fontsize=16)\n",
    "plt.ylabel('Error', fontsize=16)\n",
    "\n",
    "plt.subplot(2,1,1)\n",
    "plt.title('cost functions')\n",
    "plt.plot(range(training_epochs), cost_history, linewidth=1)\n",
    "plt.subplot(2,1,2)\n",
    "plt.title('accuracy')\n",
    "plt.axis([0,10000,0.1,1])\n",
    "plt.grid(True)\n",
    "plt.plot(range(training_epochs), accuracy_history, linewidth=1)\n",
    "\n",
    "plt.show()\n",
    "\n",
    "print('Accuracy of the trained model on the training data is {}%'.format(accuracy_history[-1]*100))"
   ]
  },
  {
   "cell_type": "markdown",
   "metadata": {},
   "source": [
    "# Evaluating model performance on the test data - 93.74%"
   ]
  },
  {
   "cell_type": "code",
   "execution_count": 22,
   "metadata": {
    "collapsed": false
   },
   "outputs": [
    {
     "name": "stdout",
     "output_type": "stream",
     "text": [
      "The accuracy of the trained model on the test data is 93.74%\n"
     ]
    }
   ],
   "source": [
    "sample_n, params_n = np.shape(X_test_biased) #Nx785 if images are 28x28 pixles\n",
    "layer2_n = 25\n",
    "\n",
    "z2 = np.matmul(X_test_biased,weights1_reg)\n",
    "a2 = scipy.special.expit(z2)\n",
    "a2_ = np.concatenate([np.ones([sample_n, 1], np.float64), a2], axis=1)\n",
    "\n",
    "#2nd layer\n",
    "z3 = np.matmul(a2_,weights2_reg)\n",
    "h_ = scipy.special.expit(z3)\n",
    "\n",
    "y_pred_pf = np.equal(np.argmax(h_,1), np.argmax(y_test,1))\n",
    "#y_pred_pf_float = tf.cast(y_pred_pf, tf.float64)\n",
    "accuracy = np.mean(y_pred_pf)\n",
    "\n",
    "#test_accuracy = sess.run(t_accuracy, feed_dict={X_:X_test_biased, y_:y_test})\n",
    "print(\"The accuracy of the trained model on the test data is {}%\". format(accuracy*100))"
   ]
  }
 ],
 "metadata": {
  "kernelspec": {
   "display_name": "Python 3",
   "language": "python",
   "name": "python3"
  },
  "language_info": {
   "codemirror_mode": {
    "name": "ipython",
    "version": 3
   },
   "file_extension": ".py",
   "mimetype": "text/x-python",
   "name": "python",
   "nbconvert_exporter": "python",
   "pygments_lexer": "ipython3",
   "version": "3.6.0"
  }
 },
 "nbformat": 4,
 "nbformat_minor": 2
}
